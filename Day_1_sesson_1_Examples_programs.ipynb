{
  "nbformat": 4,
  "nbformat_minor": 0,
  "metadata": {
    "colab": {
      "name": "Day 1 sesson 1 Examples programs.ipynb",
      "provenance": [],
      "collapsed_sections": [],
      "authorship_tag": "ABX9TyNVRoKU+EsasOGncxzDn3GW",
      "include_colab_link": true
    },
    "kernelspec": {
      "name": "python3",
      "display_name": "Python 3"
    }
  },
  "cells": [
    {
      "cell_type": "markdown",
      "metadata": {
        "id": "view-in-github",
        "colab_type": "text"
      },
      "source": [
        "<a href=\"https://colab.research.google.com/github/Priya-s-k/Workshop-on-Applications-of-Python-Programming-in-Data-Analytics-and-Machine-Learning/blob/master/Day_1_sesson_1_Examples_programs.ipynb\" target=\"_parent\"><img src=\"https://colab.research.google.com/assets/colab-badge.svg\" alt=\"Open In Colab\"/></a>"
      ]
    },
    {
      "cell_type": "markdown",
      "metadata": {
        "id": "C_nCFnH-oQee",
        "colab_type": "text"
      },
      "source": [
        "# Python Program to Add Two Numbers getting through key board"
      ]
    },
    {
      "cell_type": "code",
      "metadata": {
        "id": "vZTmdv1xoZjL",
        "colab_type": "code",
        "outputId": "edefb4b5-8e2e-4d53-c6c1-18a2a94309f2",
        "colab": {
          "base_uri": "https://localhost:8080/",
          "height": 69
        }
      },
      "source": [
        "num1 = int(input(\"Enter first no: \"))\n",
        "num2 = int(input(\"Enter second no: \"))\n",
        "sum = num1 + num2\n",
        "print('The sum of {0} and {1} is {2}'.format(num1, num2, sum))\n",
        "\n"
      ],
      "execution_count": 0,
      "outputs": [
        {
          "output_type": "stream",
          "text": [
            "Enter first no: 5\n",
            "Enter second no: 6\n",
            "The sum of 5 and 6 is 11\n"
          ],
          "name": "stdout"
        }
      ]
    },
    {
      "cell_type": "markdown",
      "metadata": {
        "id": "atqvUwuBolTT",
        "colab_type": "text"
      },
      "source": [
        "# Python program to check if the input year is a leap year or not"
      ]
    },
    {
      "cell_type": "code",
      "metadata": {
        "id": "-lw4Z2zzoryM",
        "colab_type": "code",
        "outputId": "5156c1df-f721-4801-f12b-60faa0cdc91d",
        "colab": {
          "base_uri": "https://localhost:8080/",
          "height": 52
        }
      },
      "source": [
        "year = int(input(\"Enter a year: \"))\n",
        "\n",
        "if ((year % 4) == 0 and (year % 100)  != 0) or ((year % 400) == 0):\n",
        "      print(\"{0} is a leap year\".format(year))\n",
        "else:\n",
        "      print(\"{0} is not a leap year\".format(year))\n",
        "\n"
      ],
      "execution_count": 0,
      "outputs": [
        {
          "output_type": "stream",
          "text": [
            "Enter a year: 2019\n",
            "2019 is not a leap year\n"
          ],
          "name": "stdout"
        }
      ]
    },
    {
      "cell_type": "markdown",
      "metadata": {
        "id": "9LdQmdWno-Wq",
        "colab_type": "text"
      },
      "source": [
        "# Python Program to Generate a Random Number "
      ]
    },
    {
      "cell_type": "code",
      "metadata": {
        "id": "gbVR4qLLpHO-",
        "colab_type": "code",
        "outputId": "46826685-660d-4e5d-8dcb-779109b3f817",
        "colab": {
          "base_uri": "https://localhost:8080/",
          "height": 34
        }
      },
      "source": [
        "import random\n",
        "print(random.randint(0,9))\n",
        "\n"
      ],
      "execution_count": 0,
      "outputs": [
        {
          "output_type": "stream",
          "text": [
            "8\n"
          ],
          "name": "stdout"
        }
      ]
    },
    {
      "cell_type": "markdown",
      "metadata": {
        "id": "10SgI0vJpXN9",
        "colab_type": "text"
      },
      "source": [
        "# Python Program to Convert Kilometers to Miles "
      ]
    },
    {
      "cell_type": "code",
      "metadata": {
        "id": "sr99Cw5dpcfY",
        "colab_type": "code",
        "outputId": "79814143-16d9-4721-9d3f-f9f0e8bc6890",
        "colab": {
          "base_uri": "https://localhost:8080/",
          "height": 52
        }
      },
      "source": [
        "kilometers = int(input(\"Enter value in kilometers\"))\n",
        "conv_fac = 0.621371\n",
        "miles = kilometers * conv_fac\n",
        "print('%0.3f kilometers is equal to %0.3f miles' %(kilometers,miles))\n"
      ],
      "execution_count": 0,
      "outputs": [
        {
          "output_type": "stream",
          "text": [
            "Enter value in kilometers10\n",
            "10.000 kilometers is equal to 6.214 miles\n"
          ],
          "name": "stdout"
        }
      ]
    },
    {
      "cell_type": "markdown",
      "metadata": {
        "id": "iFEJ9oSzp1_b",
        "colab_type": "text"
      },
      "source": [
        "# Python Program to Solve Quadratic Equation "
      ]
    },
    {
      "cell_type": "code",
      "metadata": {
        "id": "0dOi87tUp4WN",
        "colab_type": "code",
        "outputId": "e7ab11ff-6deb-4ddc-da07-bda8d48971e2",
        "colab": {
          "base_uri": "https://localhost:8080/",
          "height": 86
        }
      },
      "source": [
        "import cmath\n",
        "a = float(input('Enter a: '))\n",
        "b = float(input('Enter b: '))\n",
        "c = float(input('Enter c: '))\n",
        "d = (b**2) - (4*a*c)\n",
        "sol1 = (-b-cmath.sqrt(d))/(2*a)\n",
        "sol2 = (-b+cmath.sqrt(d))/(2*a)\n",
        "\n",
        "print('The solution are {0} and {1}'.format(sol1,sol2))\n",
        "\n"
      ],
      "execution_count": 0,
      "outputs": [
        {
          "output_type": "stream",
          "text": [
            "Enter a: 5\n",
            "Enter b: 3\n",
            "Enter c: 5\n",
            "The solution are (-0.3-0.9539392014169457j) and (-0.3+0.9539392014169457j)\n"
          ],
          "name": "stdout"
        }
      ]
    },
    {
      "cell_type": "markdown",
      "metadata": {
        "id": "3Ixy7PowqGDX",
        "colab_type": "text"
      },
      "source": [
        "# Python Program to find prime or not using function "
      ]
    },
    {
      "cell_type": "code",
      "metadata": {
        "id": "e47o-FAoqNVn",
        "colab_type": "code",
        "outputId": "eb558282-6cf9-4e88-8231-283ccba662aa",
        "colab": {
          "base_uri": "https://localhost:8080/",
          "height": 52
        }
      },
      "source": [
        "def test_prime(n):\n",
        "  if (n==1):\n",
        "        return False\n",
        "  elif (n==2):\n",
        "    return True;\n",
        "  else:\n",
        "    for x in range(2,n):\n",
        "       if(n % x==0):\n",
        "          return False\n",
        "    return True\n",
        "no=int(input(\"Enter the number\"))\n",
        "if (test_prime(no)) is True :\n",
        "     print(\" {0} is a prime no\".format(no))\n",
        "else:\n",
        "     print(\" {0} is not a prime no\".format(no))\n",
        "\n"
      ],
      "execution_count": 0,
      "outputs": [
        {
          "output_type": "stream",
          "text": [
            "Enter the number2\n",
            " 2 is a prime no\n"
          ],
          "name": "stdout"
        }
      ]
    },
    {
      "cell_type": "markdown",
      "metadata": {
        "id": "k7pr5fwkqv86",
        "colab_type": "text"
      },
      "source": [
        "# Calculator program"
      ]
    },
    {
      "cell_type": "code",
      "metadata": {
        "id": "N5gau36Rq2qo",
        "colab_type": "code",
        "outputId": "9135449c-0343-46c2-c689-6a9924ebe306",
        "colab": {
          "base_uri": "https://localhost:8080/",
          "height": 1122
        }
      },
      "source": [
        "loop = 1 \n",
        "choice = 0 \n",
        "\n",
        "def add(a,b):\n",
        "  return a+b \n",
        "def sub(a,b):\n",
        "  return a-b\n",
        "def mul(a,b):\n",
        "  return a*b\n",
        "def div(a,b):\n",
        "  return a/b\n",
        "\n",
        "while loop == 1:\n",
        "  print (\"Welcome to calculator.py\")\n",
        "  print (\"your options are:\")\n",
        "  print (\"\")\n",
        "  print(\"1) Addition\")\n",
        "  print(\"2) Subtraction\")\n",
        "  print(\"3) Multiplication\")\n",
        "  print(\"4) Division\")\n",
        "  print(\"5) Quit calculator.py\")\n",
        "  print(\"\")\n",
        "  try:\n",
        "    choice = int(input(\"Choose your option: \"))\n",
        "  except:\n",
        "     print('please enter a valid number for option')\n",
        "     print(\"\")\n",
        "  print(\"\")\n",
        "  if choice == 1:\n",
        "       x = int(input(\" Enter 1st no: \"))\n",
        "       y = int(input(\"Enter 2nd no: \"))\n",
        "       print(\"The answer is \",add(x,y))\n",
        "\n",
        "  elif choice == 2:\n",
        "     x = int(input(\"Enter 1st no: \"))\n",
        "     y = int(input(\"Enter 2nd no: \"))\n",
        "     print(\"answer is \",sub(x,y))\n",
        "\n",
        "  elif choice == 3:\n",
        "      x = int(input(\"Enter 1st no: \"))\n",
        "      y = int(input(\"Enter 2nd no: \"))\n",
        "      print(\"answer is \",mul(x,y))\n",
        "\n",
        "  elif choice == 4:\n",
        "       x = int(input(\"Enter 1st no: \"))\n",
        "       y = int(input(\"Enter 2nd no: \"))\n",
        "       print(\"answer is \",div(x,y))\n",
        "\n",
        "  elif choice == 5:\n",
        "      loop = 0\n",
        "\n",
        "  else:\n",
        "       print(\"please choice a valid option from 1 to 5\")\n",
        "       choice=0\n",
        "print (\"Thank-you for using calculator.py!\")\n",
        "\n",
        "\n",
        "\n",
        "\n"
      ],
      "execution_count": 0,
      "outputs": [
        {
          "output_type": "stream",
          "text": [
            "Welcome to calculator.py\n",
            "your options are:\n",
            "\n",
            "1) Addition\n",
            "2) Subtraction\n",
            "3) Multiplication\n",
            "4) Division\n",
            "5) Quit calculator.py\n",
            "\n",
            "Choose your option: 1\n",
            "\n",
            " Enter 1st no: 5\n",
            "Enter 2nd no: 6\n",
            "The answer is  11\n",
            "Welcome to calculator.py\n",
            "your options are:\n",
            "\n",
            "1) Addition\n",
            "2) Subtraction\n",
            "3) Multiplication\n",
            "4) Division\n",
            "5) Quit calculator.py\n",
            "\n",
            "Choose your option: 2\n",
            "\n",
            "Enter 1st no: 11\n",
            "Enter 2nd no: 5\n",
            "answer is  6\n",
            "Welcome to calculator.py\n",
            "your options are:\n",
            "\n",
            "1) Addition\n",
            "2) Subtraction\n",
            "3) Multiplication\n",
            "4) Division\n",
            "5) Quit calculator.py\n",
            "\n",
            "Choose your option: 3\n",
            "\n",
            "Enter 1st no: 5\n",
            "Enter 2nd no: 3\n",
            "answer is  15\n",
            "Welcome to calculator.py\n",
            "your options are:\n",
            "\n",
            "1) Addition\n",
            "2) Subtraction\n",
            "3) Multiplication\n",
            "4) Division\n",
            "5) Quit calculator.py\n",
            "\n",
            "Choose your option: 4\n",
            "\n",
            "Enter 1st no: 16\n",
            "Enter 2nd no: 4\n",
            "answer is  4.0\n",
            "Welcome to calculator.py\n",
            "your options are:\n",
            "\n",
            "1) Addition\n",
            "2) Subtraction\n",
            "3) Multiplication\n",
            "4) Division\n",
            "5) Quit calculator.py\n",
            "\n",
            "Choose your option: 5\n",
            "\n",
            "Thank-you for using calculator.py!\n"
          ],
          "name": "stdout"
        }
      ]
    }
  ]
}
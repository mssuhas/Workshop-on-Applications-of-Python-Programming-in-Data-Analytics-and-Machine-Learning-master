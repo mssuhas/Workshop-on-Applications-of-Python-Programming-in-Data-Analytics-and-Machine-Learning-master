{
  "nbformat": 4,
  "nbformat_minor": 0,
  "metadata": {
    "colab": {
      "name": "Day 2 session 1 Examples programs.ipynb",
      "provenance": [],
      "collapsed_sections": [],
      "include_colab_link": true
    },
    "kernelspec": {
      "name": "python3",
      "display_name": "Python 3"
    }
  },
  "cells": [
    {
      "cell_type": "markdown",
      "metadata": {
        "id": "view-in-github",
        "colab_type": "text"
      },
      "source": [
        "<a href=\"https://colab.research.google.com/github/mssuhas/Workshop-on-Applications-of-Python-Programming-in-Data-Analytics-and-Machine-Learning-master/blob/master/Day_2_session_1_Examples_programs.ipynb\" target=\"_parent\"><img src=\"https://colab.research.google.com/assets/colab-badge.svg\" alt=\"Open In Colab\"/></a>"
      ]
    },
    {
      "cell_type": "markdown",
      "metadata": {
        "id": "tEmwZuaXrwQq",
        "colab_type": "text"
      },
      "source": [
        "# List examples"
      ]
    },
    {
      "cell_type": "markdown",
      "metadata": {
        "id": "vAWsEwDr1SYB",
        "colab_type": "text"
      },
      "source": [
        "#Program to find the largest number in a list."
      ]
    },
    {
      "cell_type": "markdown",
      "metadata": {
        "id": "Jd4-5O9u1M6s",
        "colab_type": "text"
      },
      "source": [
        ""
      ]
    },
    {
      "cell_type": "code",
      "metadata": {
        "id": "B0G9E6hRsdWq",
        "colab_type": "code",
        "outputId": "28b4c17d-068e-4b47-febd-7a553fbbf9b6",
        "colab": {
          "base_uri": "https://localhost:8080/",
          "height": 136
        }
      },
      "source": [
        "a=[]\n",
        "n=int(input(\"Enter number of elements:\"))\n",
        "for i in range(1,n+1):\n",
        "  b=int(input(\"Enter element:\"))\n",
        "  a.append(b)\n",
        "a.sort()\n",
        "print(\"Largest element is:\",a[n-1])\n",
        "\n"
      ],
      "execution_count": 0,
      "outputs": [
        {
          "output_type": "stream",
          "text": [
            "Enter number of elements:5\n",
            "Enter element:3\n",
            "Enter element:8\n",
            "Enter element:9\n",
            "Enter element:45\n",
            "Enter element:89\n",
            "Largest element is: 89\n"
          ],
          "name": "stdout"
        }
      ]
    },
    {
      "cell_type": "markdown",
      "metadata": {
        "id": "idKwqYOWzOuA",
        "colab_type": "text"
      },
      "source": [
        "#Pythonic solution"
      ]
    },
    {
      "cell_type": "code",
      "metadata": {
        "id": "DTRwl8TMzWP3",
        "colab_type": "code",
        "outputId": "068cec2d-7f12-4aae-ff18-ab75a199a9d9",
        "colab": {
          "base_uri": "https://localhost:8080/",
          "height": 119
        }
      },
      "source": [
        "x=0\n",
        "print('The greatest no is',max([int(input(x)) for i in range(int(input(\"Enter n: \")))]))\n"
      ],
      "execution_count": 0,
      "outputs": [
        {
          "output_type": "stream",
          "text": [
            "Enter n: 4\n",
            "5\n",
            "8\n",
            "9\n",
            "2\n",
            "The greatest no is 9\n"
          ],
          "name": "stdout"
        }
      ]
    },
    {
      "cell_type": "markdown",
      "metadata": {
        "id": "OOVgEvUGtELT",
        "colab_type": "text"
      },
      "source": [
        "#Python Program to put the even and odd elements in a list into two different lists. "
      ]
    },
    {
      "cell_type": "code",
      "metadata": {
        "id": "lvdGfpPqtIb4",
        "colab_type": "code",
        "outputId": "db68e4f1-5a48-4670-9801-0b6a8f5ab2b0",
        "colab": {
          "base_uri": "https://localhost:8080/",
          "height": 170
        }
      },
      "source": [
        "a=[]\n",
        "n=int(input(\"Enter number of elements:\"))\n",
        "for i in range(1,n+1):\n",
        "  b=int(input(\"Enter element:\"))\n",
        "  a.append(b)\n",
        "even=[]\n",
        "odd=[]\n",
        "for j in a:\n",
        "  if(j%2==0):\n",
        "    even.append(j)\n",
        "  else:\n",
        "    odd.append(j)\n",
        "print(\"The even list\",even)\n",
        "print(\"The odd list\",odd)\n"
      ],
      "execution_count": 0,
      "outputs": [
        {
          "output_type": "stream",
          "text": [
            "Enter number of elements:6\n",
            "Enter element:1\n",
            "Enter element:2\n",
            "Enter element:3\n",
            "Enter element:4\n",
            "Enter element:5\n",
            "Enter element:6\n",
            "The even list [2, 4, 6]\n",
            "The odd list [1, 3, 5]\n"
          ],
          "name": "stdout"
        }
      ]
    },
    {
      "cell_type": "markdown",
      "metadata": {
        "id": "wb-t15CAzpXn",
        "colab_type": "text"
      },
      "source": [
        "#Pythonic solution"
      ]
    },
    {
      "cell_type": "code",
      "metadata": {
        "id": "abLVXZkxtXJV",
        "colab_type": "code",
        "outputId": "13794372-e3a1-4818-c13f-b6d6afd5b73c",
        "colab": {
          "base_uri": "https://localhost:8080/",
          "height": 170
        }
      },
      "source": [
        "a=([int(input(x)) for i in range(int(input(\"Enter n: \")))])\n",
        "even=[ x for x in a if x % 2 == 0]\n",
        "print(\"even: \" ,even)\n",
        "odd=[ x for x in a if x % 2 != 0]\n",
        "print(\"odd: \",odd)\n",
        "\n",
        "\n"
      ],
      "execution_count": 0,
      "outputs": [
        {
          "output_type": "stream",
          "text": [
            "Enter n: 6\n",
            "1\n",
            "2\n",
            "3\n",
            "4\n",
            "5\n",
            "6\n",
            "even:  [2, 4, 6]\n",
            "odd:  [1, 3, 5]\n"
          ],
          "name": "stdout"
        }
      ]
    },
    {
      "cell_type": "markdown",
      "metadata": {
        "id": "IhARoecJwQh9",
        "colab_type": "text"
      },
      "source": [
        "#Python Program to merge two lists and sort it."
      ]
    },
    {
      "cell_type": "code",
      "metadata": {
        "id": "2IMTd9Ymwrpq",
        "colab_type": "code",
        "outputId": "3345e55c-ea76-415a-b3f7-55c29505ed17",
        "colab": {
          "base_uri": "https://localhost:8080/",
          "height": 187
        }
      },
      "source": [
        "a=[]\n",
        "c=[]\n",
        "n1=int(input(\"Enter number of elements:\"))\n",
        "for i in range(1,n1+1):\n",
        "  b=int(input(\"Enter element:\"))\n",
        "  a.append(b)\n",
        "n2=int(input(\"Enter number of elements:\"))\n",
        "for i in range(1,n2+1):\n",
        "  d=int(input(\"Enter element:\"))\n",
        "  c.append(d)\n",
        "new=a+c\n",
        "new.sort()\n",
        "print(\"Sorted list is:\",new)\n"
      ],
      "execution_count": 0,
      "outputs": [
        {
          "output_type": "stream",
          "text": [
            "Enter number of elements:4\n",
            "Enter element:2\n",
            "Enter element:8\n",
            "Enter element:5\n",
            "Enter element:9\n",
            "Enter number of elements:3\n",
            "Enter element:5\n",
            "Enter element:6\n",
            "Enter element:7\n",
            "Sorted list is: [2, 5, 5, 6, 7, 8, 9]\n"
          ],
          "name": "stdout"
        }
      ]
    },
    {
      "cell_type": "markdown",
      "metadata": {
        "id": "4e-RRH4Yzs78",
        "colab_type": "text"
      },
      "source": [
        "#Pythonic solution"
      ]
    },
    {
      "cell_type": "code",
      "metadata": {
        "id": "rswSh2clw7VM",
        "colab_type": "code",
        "outputId": "0879198e-b03d-4376-b1e6-d2f64566cfbc",
        "colab": {
          "base_uri": "https://localhost:8080/",
          "height": 153
        }
      },
      "source": [
        "a=([int(input(x)) for i in range(int(input(\"Enter n: \")))])\n",
        "b=([int(input(x)) for i in range(int(input(\"Enter n: \")))])\n",
        "new=a+b\n",
        "new.sort()\n",
        "print(\"Sorted list is:\",new)"
      ],
      "execution_count": 0,
      "outputs": [
        {
          "output_type": "stream",
          "text": [
            "Enter n: 2\n",
            "2\n",
            "1\n",
            "Enter n: 3\n",
            "5\n",
            "3\n",
            "4\n",
            "Sorted list is: [1, 2, 3, 4, 5]\n"
          ],
          "name": "stdout"
        }
      ]
    },
    {
      "cell_type": "markdown",
      "metadata": {
        "id": "X51CxexWxyLt",
        "colab_type": "text"
      },
      "source": [
        "#Python Program to sort the list according to the second element in the sublist.\n",
        "\n"
      ]
    },
    {
      "cell_type": "code",
      "metadata": {
        "id": "xMMvoKB5x2zJ",
        "colab_type": "code",
        "outputId": "50c556b1-7c36-4823-d9f8-0bede82f9370",
        "colab": {
          "base_uri": "https://localhost:8080/",
          "height": 34
        }
      },
      "source": [
        "a=[['A',34],['B',21],['C',26],['E',29]]\n",
        "for i in range(0,len(a)):\n",
        "  for j in range(i+1,len(a)):\n",
        "    if(a[i][1]>a[j][1]):\n",
        "      temp=a[j]\n",
        "      a[j]=a[i]\n",
        "      a[i]=temp\n",
        "\n",
        "print(a)\n"
      ],
      "execution_count": 0,
      "outputs": [
        {
          "output_type": "stream",
          "text": [
            "[['B', 21], ['C', 26], ['E', 29], ['A', 34]]\n"
          ],
          "name": "stdout"
        }
      ]
    },
    {
      "cell_type": "markdown",
      "metadata": {
        "id": "HvBza7_9yanA",
        "colab_type": "text"
      },
      "source": [
        "#Python Program to find the second largest number in a list using bubble sort. "
      ]
    },
    {
      "cell_type": "code",
      "metadata": {
        "id": "TapYnJglyfHd",
        "colab_type": "code",
        "outputId": "24672289-6fb8-4cb8-8e52-dcc66d702b66",
        "colab": {
          "base_uri": "https://localhost:8080/",
          "height": 119
        }
      },
      "source": [
        "a=[]\n",
        "n=int(input(\"Enter number of elements:\"))\n",
        "for i in range(1,n+1):\n",
        "    b=int(input(\"Enter element:\"))\n",
        "    a.append(b)\n",
        "for i in range(0,len(a)):\n",
        "  for j in range(0,len(a)-i-1):\n",
        "    if(a[j]>a[j+1]):\n",
        "      temp=a[j]\n",
        "      a[j]=a[j+1]\n",
        "      a[j+1]=temp \n",
        "print('Second largest number is:',a[n-2])\n"
      ],
      "execution_count": 0,
      "outputs": [
        {
          "output_type": "stream",
          "text": [
            "Enter number of elements:4\n",
            "Enter element:1\n",
            "Enter element:5\n",
            "Enter element:9\n",
            "Enter element:8\n",
            "Second largest number is: 8\n"
          ],
          "name": "stdout"
        }
      ]
    },
    {
      "cell_type": "markdown",
      "metadata": {
        "id": "fK-GxCpNzx--",
        "colab_type": "text"
      },
      "source": [
        "#Pythonic solution"
      ]
    },
    {
      "cell_type": "code",
      "metadata": {
        "id": "FhdcN3PBy3TH",
        "colab_type": "code",
        "outputId": "a7922f10-3e48-4c34-ede9-1500c550e157",
        "colab": {
          "base_uri": "https://localhost:8080/",
          "height": 119
        }
      },
      "source": [
        "a=([int(input(x)) for i in range(int(input(\"Enter n: \")))])\n",
        "for i in range(0,len(a)):\n",
        "  for j in range(0,len(a)-i-1):\n",
        "    if(a[j]>a[j+1]):\n",
        "      temp=a[j]\n",
        "      a[j]=a[j+1]\n",
        "      a[j+1]=temp \n",
        "print('Second largest number is:',a[n-2])"
      ],
      "execution_count": 0,
      "outputs": [
        {
          "output_type": "stream",
          "text": [
            "Enter n: 4\n",
            "2\n",
            "5\n",
            "8\n",
            "3\n",
            "Second largest number is: 5\n"
          ],
          "name": "stdout"
        }
      ]
    },
    {
      "cell_type": "markdown",
      "metadata": {
        "id": "NNSOe1O6zz8L",
        "colab_type": "text"
      },
      "source": [
        "#Program to create a list of tuples with the first element as the number and the second element as the square of the number. "
      ]
    },
    {
      "cell_type": "code",
      "metadata": {
        "id": "wBrkLi8cz9TJ",
        "colab_type": "code",
        "outputId": "b2dde38b-2b68-4995-fbf6-9d244f92b9aa",
        "colab": {
          "base_uri": "https://localhost:8080/",
          "height": 68
        }
      },
      "source": [
        "l_range=int(input(\"Enter the lower range:\"))\n",
        "u_range=int(input(\"Enter the upper range:\"))\n",
        "a=[(x,x**2) for x in range(l_range,u_range+1)]\n",
        "print(a)\n"
      ],
      "execution_count": 0,
      "outputs": [
        {
          "output_type": "stream",
          "text": [
            "Enter the lower range:1\n",
            "Enter the upper range:5\n",
            "[(1, 1), (2, 4), (3, 9), (4, 16), (5, 25)]\n"
          ],
          "name": "stdout"
        }
      ]
    },
    {
      "cell_type": "markdown",
      "metadata": {
        "id": "YRF_uRM50G3U",
        "colab_type": "text"
      },
      "source": [
        "#Python Program to generate random numbers from 1 to 20 and append them to the list."
      ]
    },
    {
      "cell_type": "code",
      "metadata": {
        "id": "t6SZI7mk0KGG",
        "colab_type": "code",
        "outputId": "10113adf-e41d-40bd-bc23-8b8d54dd7e60",
        "colab": {
          "base_uri": "https://localhost:8080/",
          "height": 51
        }
      },
      "source": [
        "import random\n",
        "a=[]\n",
        "n=int(input(\"Enter number of elements:\"))\n",
        "for j in range(n):\n",
        "  a.append(random.randint(1,20))\n",
        "print('Randomised list is: ',a)\n"
      ],
      "execution_count": 0,
      "outputs": [
        {
          "output_type": "stream",
          "text": [
            "Enter number of elements:5\n",
            "Randomised list is:  [14, 2, 4, 14, 5]\n"
          ],
          "name": "stdout"
        }
      ]
    },
    {
      "cell_type": "markdown",
      "metadata": {
        "id": "r-QlmPG207Em",
        "colab_type": "text"
      },
      "source": [
        "#Pythonic solution"
      ]
    },
    {
      "cell_type": "code",
      "metadata": {
        "id": "ScshUdDE0Wr0",
        "colab_type": "code",
        "outputId": "ba8fea13-83e1-4c99-b5f2-8768df766998",
        "colab": {
          "base_uri": "https://localhost:8080/",
          "height": 51
        }
      },
      "source": [
        "import random\n",
        "print(( [random.randint(1,20) for i in range(int(input(\"Enter n: \")))]))\n"
      ],
      "execution_count": 0,
      "outputs": [
        {
          "output_type": "stream",
          "text": [
            "Enter n: 5\n",
            "[9, 7, 5, 14, 3]\n"
          ],
          "name": "stdout"
        }
      ]
    },
    {
      "cell_type": "markdown",
      "metadata": {
        "id": "us-fG1yC1B21",
        "colab_type": "text"
      },
      "source": [
        "#                 Tuple Examples"
      ]
    },
    {
      "cell_type": "markdown",
      "metadata": {
        "id": "c4CNLESj1XXj",
        "colab_type": "text"
      },
      "source": [
        "#Write python program to have a list of words  to sort them from longest to shortest using list of tuples"
      ]
    },
    {
      "cell_type": "code",
      "metadata": {
        "id": "LuBhhIfB1704",
        "colab_type": "code",
        "outputId": "360fb24d-5eff-4fc4-b09d-e120c5f7552a",
        "colab": {
          "base_uri": "https://localhost:8080/",
          "height": 34
        }
      },
      "source": [
        "txt = 'but soft what light in yonder window breaks'\n",
        "words = txt.split()\n",
        "t = list()\n",
        "for word in words:\n",
        "  t.append((len(word), word))\n",
        "t.sort(reverse=True)\n",
        "\n",
        "res = list()\n",
        "for length, word in t:\n",
        "  res.append(word)\n",
        "\n",
        "print(res)\n"
      ],
      "execution_count": 0,
      "outputs": [
        {
          "output_type": "stream",
          "text": [
            "['yonder', 'window', 'breaks', 'light', 'what', 'soft', 'but', 'in']\n"
          ],
          "name": "stdout"
        }
      ]
    },
    {
      "cell_type": "markdown",
      "metadata": {
        "id": "40EmNfYU2cLE",
        "colab_type": "text"
      },
      "source": [
        "#Python program that assigns variables"
      ]
    },
    {
      "cell_type": "code",
      "metadata": {
        "id": "rtLJdZPB24kp",
        "colab_type": "code",
        "outputId": "74523e20-a694-4c72-9ef9-5148d995e8b0",
        "colab": {
          "base_uri": "https://localhost:8080/",
          "height": 51
        }
      },
      "source": [
        "pair = (\"dog\", \"cat\")\n",
        "(key, value) = pair\n",
        "print(key)\n",
        "print(value)\n"
      ],
      "execution_count": 0,
      "outputs": [
        {
          "output_type": "stream",
          "text": [
            "dog\n",
            "cat\n"
          ],
          "name": "stdout"
        }
      ]
    },
    {
      "cell_type": "markdown",
      "metadata": {
        "id": "Ru2OXPf33AlX",
        "colab_type": "text"
      },
      "source": [
        "#Python program that searches tuples"
      ]
    },
    {
      "cell_type": "code",
      "metadata": {
        "id": "ufmtTPow3FAt",
        "colab_type": "code",
        "outputId": "7605337a-1285-4e8d-8284-cc106650a76b",
        "colab": {
          "base_uri": "https://localhost:8080/",
          "height": 51
        }
      },
      "source": [
        "pair = (\"dog\", \"cat\")\n",
        "if \"cat\" in pair:\n",
        "   print(\"Cat found\") \n",
        "if \"bird\" not in pair:\n",
        "   print(\"Bird not found\")\n"
      ],
      "execution_count": 0,
      "outputs": [
        {
          "output_type": "stream",
          "text": [
            "Cat found\n",
            "Bird not found\n"
          ],
          "name": "stdout"
        }
      ]
    }
  ]
}
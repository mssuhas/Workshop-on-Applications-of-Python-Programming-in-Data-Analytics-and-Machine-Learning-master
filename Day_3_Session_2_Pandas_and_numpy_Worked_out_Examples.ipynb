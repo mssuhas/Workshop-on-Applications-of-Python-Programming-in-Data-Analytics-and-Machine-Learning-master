{
  "nbformat": 4,
  "nbformat_minor": 0,
  "metadata": {
    "colab": {
      "name": "Day 3 Session 2 Pandas and numpy Worked out Examples.ipynb",
      "provenance": [],
      "collapsed_sections": [],
      "include_colab_link": true
    },
    "kernelspec": {
      "name": "python3",
      "display_name": "Python 3"
    }
  },
  "cells": [
    {
      "cell_type": "markdown",
      "metadata": {
        "id": "view-in-github",
        "colab_type": "text"
      },
      "source": [
        "<a href=\"https://colab.research.google.com/github/mssuhas/Workshop-on-Applications-of-Python-Programming-in-Data-Analytics-and-Machine-Learning-master/blob/master/Day_3_Session_2_Pandas_and_numpy_Worked_out_Examples.ipynb\" target=\"_parent\"><img src=\"https://colab.research.google.com/assets/colab-badge.svg\" alt=\"Open In Colab\"/></a>"
      ]
    },
    {
      "cell_type": "markdown",
      "metadata": {
        "id": "_U6yGZn61nX7",
        "colab_type": "text"
      },
      "source": [
        "#Pandas Examples"
      ]
    },
    {
      "cell_type": "markdown",
      "metadata": {
        "id": "deh3GBqo1t8Z",
        "colab_type": "text"
      },
      "source": [
        "#Write a Pandas program to create and display a one-dimensional array using series  containing  even numbers upto 10"
      ]
    },
    {
      "cell_type": "code",
      "metadata": {
        "id": "NTtYQ15L1zBC",
        "colab_type": "code",
        "colab": {
          "base_uri": "https://localhost:8080/",
          "height": 119
        },
        "outputId": "95abdd85-7561-45d5-9990-f64b2017de20"
      },
      "source": [
        "import pandas as pd\n",
        "ds = pd.Series([2, 4, 6, 8,10]) \n",
        "print(ds)\n"
      ],
      "execution_count": null,
      "outputs": [
        {
          "output_type": "stream",
          "text": [
            "0     2\n",
            "1     4\n",
            "2     6\n",
            "3     8\n",
            "4    10\n",
            "dtype: int64\n"
          ],
          "name": "stdout"
        }
      ]
    },
    {
      "cell_type": "markdown",
      "metadata": {
        "id": "Gi6JiEPd2M6C",
        "colab_type": "text"
      },
      "source": [
        "#Write a Pandas program to convert a Panda module Series to Python list and its type.\n",
        "\n"
      ]
    },
    {
      "cell_type": "code",
      "metadata": {
        "id": "oJTlo1YW2baL",
        "colab_type": "code",
        "colab": {
          "base_uri": "https://localhost:8080/",
          "height": 204
        },
        "outputId": "9aa63538-02d5-40cc-e259-dabffac31448"
      },
      "source": [
        "import pandas as pd\n",
        "ds = pd.Series([2, 4, 6, 8, 10])\n",
        "print(\"Pandas Series and type\")\n",
        "print(ds)\n",
        "print(type(ds))\n",
        "print(\"Convert Pandas Series to Python list\")\n",
        "print(ds.tolist())\n",
        "print(type(ds.tolist()))\n"
      ],
      "execution_count": null,
      "outputs": [
        {
          "output_type": "stream",
          "text": [
            "Pandas Series and type\n",
            "0     2\n",
            "1     4\n",
            "2     6\n",
            "3     8\n",
            "4    10\n",
            "dtype: int64\n",
            "<class 'pandas.core.series.Series'>\n",
            "Convert Pandas Series to Python list\n",
            "[2, 4, 6, 8, 10]\n",
            "<class 'list'>\n"
          ],
          "name": "stdout"
        }
      ]
    },
    {
      "cell_type": "markdown",
      "metadata": {
        "id": "i8zPwoqI2kKE",
        "colab_type": "text"
      },
      "source": [
        "#Write a Pandas program to add, subtract, multiple and divide two Pandas Series.\n",
        "Sample Series: [2, 4, 6, 8, 10], [1, 3, 5, 7, 9]\n"
      ]
    },
    {
      "cell_type": "code",
      "metadata": {
        "id": "umPYghj52nrz",
        "colab_type": "code",
        "colab": {
          "base_uri": "https://localhost:8080/",
          "height": 493
        },
        "outputId": "b3b858fd-1b11-4275-9a29-803a39bec1c9"
      },
      "source": [
        "import pandas as pd\n",
        "ds1 = pd.Series([2, 4, 6, 8, 10])\n",
        "ds2 = pd.Series([1, 3, 5, 7, 9])\n",
        "ds = ds1 + ds2\n",
        "print(\"Add two Series:\")\n",
        "print(ds)\n",
        "print(\"Subtract two Series:\")\n",
        "ds = ds1 - ds2\n",
        "print(ds)\n",
        "print(\"Multiply two Series:\")\n",
        "ds = ds1 * ds2\n",
        "print(ds)\n",
        "print(\"Divide Series1 by Series2:\")\n",
        "ds = ds1 / ds2\n",
        "print(ds)\n"
      ],
      "execution_count": null,
      "outputs": [
        {
          "output_type": "stream",
          "text": [
            "Add two Series:\n",
            "0     3\n",
            "1     7\n",
            "2    11\n",
            "3    15\n",
            "4    19\n",
            "dtype: int64\n",
            "Subtract two Series:\n",
            "0    1\n",
            "1    1\n",
            "2    1\n",
            "3    1\n",
            "4    1\n",
            "dtype: int64\n",
            "Multiply two Series:\n",
            "0     2\n",
            "1    12\n",
            "2    30\n",
            "3    56\n",
            "4    90\n",
            "dtype: int64\n",
            "Divide Series1 by Series2:\n",
            "0    2.000000\n",
            "1    1.333333\n",
            "2    1.200000\n",
            "3    1.142857\n",
            "4    1.111111\n",
            "dtype: float64\n"
          ],
          "name": "stdout"
        }
      ]
    },
    {
      "cell_type": "markdown",
      "metadata": {
        "id": "nEUb9-Rb2uJJ",
        "colab_type": "text"
      },
      "source": [
        "#Write a Pandas program to compare the elements of the two Pandas Series.\n",
        "#Sample Series: [2, 4, 6, 8, 10], [1, 3, 5, 7, 9]\n",
        "\n"
      ]
    },
    {
      "cell_type": "code",
      "metadata": {
        "id": "BaRl4LGl2yET",
        "colab_type": "code",
        "colab": {
          "base_uri": "https://localhost:8080/",
          "height": 629
        },
        "outputId": "279a2217-2b98-4ab0-d93d-96812334b89d"
      },
      "source": [
        "import pandas as pd\n",
        "ds1 = pd.Series([2, 4, 6, 8, 10])\n",
        "ds2 = pd.Series([1, 3, 5, 7, 10])\n",
        "print(\"Series1:\")\n",
        "print(ds1)\n",
        "print(\"Series2:\")\n",
        "print(ds2)\n",
        "print(\"Compare the elements of the said Series:\")\n",
        "print(\"Equals:\")\n",
        "print(ds1 == ds2)\n",
        "print(\"Greater than:\")\n",
        "print(ds1 > ds2)\n",
        "print(\"Less than:\")\n",
        "print(ds1 < ds2)\n"
      ],
      "execution_count": null,
      "outputs": [
        {
          "output_type": "stream",
          "text": [
            "Series1:\n",
            "0     2\n",
            "1     4\n",
            "2     6\n",
            "3     8\n",
            "4    10\n",
            "dtype: int64\n",
            "Series2:\n",
            "0     1\n",
            "1     3\n",
            "2     5\n",
            "3     7\n",
            "4    10\n",
            "dtype: int64\n",
            "Compare the elements of the said Series:\n",
            "Equals:\n",
            "0    False\n",
            "1    False\n",
            "2    False\n",
            "3    False\n",
            "4     True\n",
            "dtype: bool\n",
            "Greater than:\n",
            "0     True\n",
            "1     True\n",
            "2     True\n",
            "3     True\n",
            "4    False\n",
            "dtype: bool\n",
            "Less than:\n",
            "0    False\n",
            "1    False\n",
            "2    False\n",
            "3    False\n",
            "4    False\n",
            "dtype: bool\n"
          ],
          "name": "stdout"
        }
      ]
    },
    {
      "cell_type": "markdown",
      "metadata": {
        "id": "-SIoOR9423qu",
        "colab_type": "text"
      },
      "source": [
        "#Write a Pandas program to convert a dictionary to a Pandas series.\n",
        "#Sample dictionary: d1 = {'a': 100, 'b': 200, 'c':300, 'd':400, 'e':800}\n"
      ]
    },
    {
      "cell_type": "code",
      "metadata": {
        "id": "6rxM-_EV28Ep",
        "colab_type": "code",
        "colab": {
          "base_uri": "https://localhost:8080/",
          "height": 170
        },
        "outputId": "ba9637d2-7aa1-4cfc-f146-abd8f8c5a6b2"
      },
      "source": [
        "import pandas as pd\n",
        "d1 = {'a': 100, 'b': 200, 'c':300, 'd':400, 'e':800}\n",
        "print(\"Original dictionary:\")\n",
        "print(d1)\n",
        "new_series = pd.Series(d1)\n",
        "print(\"Converted series:\")\n",
        "print(new_series)\n"
      ],
      "execution_count": null,
      "outputs": [
        {
          "output_type": "stream",
          "text": [
            "Original dictionary:\n",
            "{'a': 100, 'b': 200, 'c': 300, 'd': 400, 'e': 800}\n",
            "Converted series:\n",
            "a    100\n",
            "b    200\n",
            "c    300\n",
            "d    400\n",
            "e    800\n",
            "dtype: int64\n"
          ],
          "name": "stdout"
        }
      ]
    },
    {
      "cell_type": "markdown",
      "metadata": {
        "id": "D2wl-7-W2_Qt",
        "colab_type": "text"
      },
      "source": [
        "#Write a Pandas program to convert a NumPy array to a Pandas series.\n",
        "#Sample NumPy array: d1 = [10, 20, 30, 40, 50]\n"
      ]
    },
    {
      "cell_type": "code",
      "metadata": {
        "id": "gGZgB3Sd3CXp",
        "colab_type": "code",
        "colab": {
          "base_uri": "https://localhost:8080/",
          "height": 170
        },
        "outputId": "330abccf-2520-49ad-cf0d-ad6bee5adb5d"
      },
      "source": [
        "import numpy as np\n",
        "import pandas as pd\n",
        "np_array = np.array([10, 20, 30, 40, 50])\n",
        "print(\"NumPy array:\")\n",
        "print(np_array)\n",
        "new_series = pd.Series(np_array)\n",
        "print(\"Converted Pandas series:\")\n",
        "print(new_series)\n"
      ],
      "execution_count": null,
      "outputs": [
        {
          "output_type": "stream",
          "text": [
            "NumPy array:\n",
            "[10 20 30 40 50]\n",
            "Converted Pandas series:\n",
            "0    10\n",
            "1    20\n",
            "2    30\n",
            "3    40\n",
            "4    50\n",
            "dtype: int64\n"
          ],
          "name": "stdout"
        }
      ]
    },
    {
      "cell_type": "markdown",
      "metadata": {
        "id": "HvDAEKzC3Knu",
        "colab_type": "text"
      },
      "source": [
        "#Write a Pandas program to change the data type of the given  Series into numeric\n",
        "#['100', '200', 'python', '300.12', '400']\n",
        "\n"
      ]
    },
    {
      "cell_type": "code",
      "metadata": {
        "id": "J7lmWX6n3Oth",
        "colab_type": "code",
        "colab": {
          "base_uri": "https://localhost:8080/",
          "height": 255
        },
        "outputId": "c5011f5d-87df-4393-d89a-030837a85bab"
      },
      "source": [
        "import pandas as pd\n",
        "s1 = pd.Series(['100', '200', 'python', '300.12', '400a'])\n",
        "print(\"Original Data Series:\")\n",
        "print(s1)\n",
        "print(\"Change the said data type to numeric:\")\n",
        "s2 = pd.to_numeric(s1, errors='coerce')\n",
        "print(s2)\n"
      ],
      "execution_count": null,
      "outputs": [
        {
          "output_type": "stream",
          "text": [
            "Original Data Series:\n",
            "0       100\n",
            "1       200\n",
            "2    python\n",
            "3    300.12\n",
            "4      400a\n",
            "dtype: object\n",
            "Change the said data type to numeric:\n",
            "0    100.00\n",
            "1    200.00\n",
            "2       NaN\n",
            "3    300.12\n",
            "4       NaN\n",
            "dtype: float64\n"
          ],
          "name": "stdout"
        }
      ]
    },
    {
      "cell_type": "markdown",
      "metadata": {
        "id": "dXVVIotZ3SdT",
        "colab_type": "text"
      },
      "source": [
        "# Write a Pandas program to convert a given Series to an array."
      ]
    },
    {
      "cell_type": "code",
      "metadata": {
        "id": "tOT74_8Z3U_l",
        "colab_type": "code",
        "colab": {
          "base_uri": "https://localhost:8080/",
          "height": 170
        },
        "outputId": "26a069bd-35c8-4a26-8ede-aeb7a0d9600a"
      },
      "source": [
        "import numpy as np\n",
        "s1 = pd.Series(['100', '200', 'python', '300.12', '400'])\n",
        "print(\"Original Data Series:\")\n",
        "print(s1)\n",
        "print(\"Series to an array\")\n",
        "a = np.array(s1.values.tolist())\n",
        "print (a)\n"
      ],
      "execution_count": null,
      "outputs": [
        {
          "output_type": "stream",
          "text": [
            "Original Data Series:\n",
            "0       100\n",
            "1       200\n",
            "2    python\n",
            "3    300.12\n",
            "4       400\n",
            "dtype: object\n",
            "Series to an array\n",
            "['100' '200' 'python' '300.12' '400']\n"
          ],
          "name": "stdout"
        }
      ]
    },
    {
      "cell_type": "markdown",
      "metadata": {
        "id": "SIoARqoa3Zf9",
        "colab_type": "text"
      },
      "source": [
        "#Write a Pandas program to sort a given Series."
      ]
    },
    {
      "cell_type": "code",
      "metadata": {
        "id": "Q-GGwOPt3cQ0",
        "colab_type": "code",
        "colab": {
          "base_uri": "https://localhost:8080/",
          "height": 238
        },
        "outputId": "c8e70af6-5138-40d8-ce78-5092278d57ab"
      },
      "source": [
        "import pandas as pd\n",
        "s = pd.Series(['200','100','python', '300.12', '400'])\n",
        "print(\"Original Data Series:\")\n",
        "print(s)\n",
        "new_s = pd.Series(s).sort_values()\n",
        "print(new_s)\n",
        "\n"
      ],
      "execution_count": null,
      "outputs": [
        {
          "output_type": "stream",
          "text": [
            "Original Data Series:\n",
            "0       200\n",
            "1       100\n",
            "2    python\n",
            "3    300.12\n",
            "4       400\n",
            "dtype: object\n",
            "1       100\n",
            "0       200\n",
            "3    300.12\n",
            "4       400\n",
            "2    python\n",
            "dtype: object\n"
          ],
          "name": "stdout"
        }
      ]
    },
    {
      "cell_type": "markdown",
      "metadata": {
        "id": "w74fp1_V3h3h",
        "colab_type": "text"
      },
      "source": [
        "#Write a Pandas program to add some data to an existing Series."
      ]
    },
    {
      "cell_type": "code",
      "metadata": {
        "id": "keFvt1j83kVk",
        "colab_type": "code",
        "colab": {
          "base_uri": "https://localhost:8080/",
          "height": 306
        },
        "outputId": "550f945a-0910-4880-e897-486016f6bd96"
      },
      "source": [
        "import pandas as pd\n",
        "s = pd.Series(['100', '200', 'python', '300.12', '400'])\n",
        "print(\"Original Data Series:\")\n",
        "print(s)\n",
        "print(\"\\nData Series after adding some data:\")\n",
        "new_s = s.append(pd.Series(['500', 'php']))\n",
        "print(new_s)\n"
      ],
      "execution_count": null,
      "outputs": [
        {
          "output_type": "stream",
          "text": [
            "Original Data Series:\n",
            "0       100\n",
            "1       200\n",
            "2    python\n",
            "3    300.12\n",
            "4       400\n",
            "dtype: object\n",
            "\n",
            "Data Series after adding some data:\n",
            "0       100\n",
            "1       200\n",
            "2    python\n",
            "3    300.12\n",
            "4       400\n",
            "0       500\n",
            "1       php\n",
            "dtype: object\n"
          ],
          "name": "stdout"
        }
      ]
    },
    {
      "cell_type": "markdown",
      "metadata": {
        "id": "Mh8w0rU_3nbf",
        "colab_type": "text"
      },
      "source": [
        "#Write a Pandas program to create a subset of a given series based on value and condition.\n",
        "\n"
      ]
    },
    {
      "cell_type": "code",
      "metadata": {
        "id": "A8uTYV3x3quJ",
        "colab_type": "code",
        "colab": {
          "base_uri": "https://localhost:8080/",
          "height": 357
        },
        "outputId": "d66147d3-886e-49d3-9c43-4f562d12f0be"
      },
      "source": [
        "import pandas as pd\n",
        "s = pd.Series([0, 1,2,3,4,5,6,7,8,9,10])\n",
        "print(\"Original Data Series:\")\n",
        "print(s)\n",
        "print(\"\\nSubset of the above Data Series:\")\n",
        "n = 6\n",
        "new_s = s[s >n]\n",
        "print(new_s)\n"
      ],
      "execution_count": null,
      "outputs": [
        {
          "output_type": "stream",
          "text": [
            "Original Data Series:\n",
            "0      0\n",
            "1      1\n",
            "2      2\n",
            "3      3\n",
            "4      4\n",
            "5      5\n",
            "6      6\n",
            "7      7\n",
            "8      8\n",
            "9      9\n",
            "10    10\n",
            "dtype: int64\n",
            "\n",
            "Subset of the above Data Series:\n",
            "7      7\n",
            "8      8\n",
            "9      9\n",
            "10    10\n",
            "dtype: int64\n"
          ],
          "name": "stdout"
        }
      ]
    },
    {
      "cell_type": "markdown",
      "metadata": {
        "id": "USUNbaSm3tzI",
        "colab_type": "text"
      },
      "source": [
        "#Write a Pandas program to change the order of index of a given series."
      ]
    },
    {
      "cell_type": "code",
      "metadata": {
        "id": "1uiYNxKd3wPU",
        "colab_type": "code",
        "colab": {
          "base_uri": "https://localhost:8080/",
          "height": 255
        },
        "outputId": "16a530d9-3338-4422-aff6-d924be7697f2"
      },
      "source": [
        "import pandas as pd\n",
        "s = pd.Series(data = [1,2,3,4,5], index = ['A', 'B', 'C','D','E'])\n",
        "print(\"Original Data Series:\")\n",
        "print(s)\n",
        "s = s.reindex(index = ['B','A','C','D','E'])\n",
        "print(\"Data Series after changing the order of index:\")\n",
        "print(s)\n"
      ],
      "execution_count": null,
      "outputs": [
        {
          "output_type": "stream",
          "text": [
            "Original Data Series:\n",
            "A    1\n",
            "B    2\n",
            "C    3\n",
            "D    4\n",
            "E    5\n",
            "dtype: int64\n",
            "Data Series after changing the order of index:\n",
            "B    2\n",
            "A    1\n",
            "C    3\n",
            "D    4\n",
            "E    5\n",
            "dtype: int64\n"
          ],
          "name": "stdout"
        }
      ]
    },
    {
      "cell_type": "markdown",
      "metadata": {
        "id": "-ouO7dCd33Ps",
        "colab_type": "text"
      },
      "source": [
        "#Write a Pandas program to create the mean and standard deviation, maximum and minimum of the data of a given Series."
      ]
    },
    {
      "cell_type": "code",
      "metadata": {
        "id": "iYPUFwm139OU",
        "colab_type": "code",
        "colab": {
          "base_uri": "https://localhost:8080/",
          "height": 318
        },
        "outputId": "95d14d3f-9514-440f-b9c5-f004fdb06b85"
      },
      "source": [
        "import pandas as pd\n",
        "s = pd.Series(data = [1,2,3,4,5,6,7,8,9,5,3])\n",
        "print(\"Original Data Series:\")\n",
        "print(s)\n",
        "print(\"Mean of the said Data Series:\")\n",
        "print(s.mean())\n",
        "print(\"Standard deviation of the said Data Series:\")\n",
        "print(s.std())\n"
      ],
      "execution_count": null,
      "outputs": [
        {
          "output_type": "stream",
          "text": [
            "Original Data Series:\n",
            "0     1\n",
            "1     2\n",
            "2     3\n",
            "3     4\n",
            "4     5\n",
            "5     6\n",
            "6     7\n",
            "7     8\n",
            "8     9\n",
            "9     5\n",
            "10    3\n",
            "dtype: int64\n",
            "Mean of the said Data Series:\n",
            "4.818181818181818\n",
            "Standard deviation of the said Data Series:\n",
            "2.522624895547565\n"
          ],
          "name": "stdout"
        }
      ]
    },
    {
      "cell_type": "markdown",
      "metadata": {
        "id": "vPXSKlmY4Cp4",
        "colab_type": "text"
      },
      "source": [
        "#Write a Pandas program to get the elements of an array values into column-wise.\n",
        "#Sample data: {‘X’:[78,85,96,80,86], 'Y':[84,94,89,83,86],'Z':[86,97,96,72,83]}\n"
      ]
    },
    {
      "cell_type": "code",
      "metadata": {
        "id": "gtMBaNvS4BXm",
        "colab_type": "code",
        "colab": {
          "base_uri": "https://localhost:8080/",
          "height": 123
        },
        "outputId": "2efbc2dd-323b-43b5-a2e2-a6d883e3038c"
      },
      "source": [
        "import pandas as pd\n",
        "df = pd.DataFrame({'X':[78,85,96,80,86], 'Y':[84,94,89,83,86],'Z':[86,97,96,72,83]});\n",
        "print(df)\n"
      ],
      "execution_count": null,
      "outputs": [
        {
          "output_type": "stream",
          "text": [
            "    X   Y   Z\n",
            "0  78  84  86\n",
            "1  85  94  97\n",
            "2  96  89  96\n",
            "3  80  83  72\n",
            "4  86  86  83\n"
          ],
          "name": "stdout"
        }
      ]
    },
    {
      "cell_type": "markdown",
      "metadata": {
        "id": "GrACHuUR4JN7",
        "colab_type": "text"
      },
      "source": [
        "#Write a Pandas program to get the columns of the DataFrame (movies_metadata.csv file)."
      ]
    },
    {
      "cell_type": "code",
      "metadata": {
        "id": "Qxo5EHfD4M0k",
        "colab_type": "code",
        "colab": {
          "base_uri": "https://localhost:8080/",
          "height": 52
        },
        "outputId": "4bcab66c-9126-478a-b2e2-cfc85a48e51a"
      },
      "source": [
        "import pandas as pd\n",
        "import numpy as np\n",
        "df = pd.read_csv('movies_metadata.csv')\n",
        "print(\"Columns of the DataFrame:\")\n",
        "print(df.columns)\n"
      ],
      "execution_count": null,
      "outputs": [
        {
          "output_type": "stream",
          "text": [
            "Columns of the DataFrame:\n",
            "Index(['reviews', 'language', 'country', 'budget', 'rating', 'year', 'actor'], dtype='object')\n"
          ],
          "name": "stdout"
        }
      ]
    },
    {
      "cell_type": "markdown",
      "metadata": {
        "id": "-rFCVslH4VSZ",
        "colab_type": "text"
      },
      "source": [
        "#Write a Pandas program to sort the DataFrame based on country from dataset of \n",
        "# movie_metadata.csv\n"
      ]
    },
    {
      "cell_type": "code",
      "metadata": {
        "id": "LNgP5fJm4a4x",
        "colab_type": "code",
        "colab": {
          "base_uri": "https://localhost:8080/",
          "height": 158
        },
        "outputId": "ba94787d-47ad-4743-e2e2-7f0efbde7aec"
      },
      "source": [
        "import pandas as pd\n",
        "import numpy as np\n",
        "df = pd.read_csv('movies_metadata.csv')\n",
        "print(\"sorted by country\")\n",
        "small_df = df[['reviews','language','country','rating','budget','year']]\n",
        "result = small_df.sort_values('country')\n",
        "print(result)\n"
      ],
      "execution_count": null,
      "outputs": [
        {
          "output_type": "stream",
          "text": [
            "sorted by country\n",
            "   reviews language country  rating  budget  year\n",
            "2        2    hindi     ast       4  9 lack  2019\n",
            "0        4      eng     end       4  7 lack  2017\n",
            "5        3      eng     end       4  9 lack  2015\n",
            "1        3  kannada     ind       4   8lack  2018\n",
            "4        4    telgu  russia       4  8 lack  2013\n",
            "3        5    tamil     usa       4   7lack  2012\n"
          ],
          "name": "stdout"
        }
      ]
    },
    {
      "cell_type": "markdown",
      "metadata": {
        "id": "3J_LId2R4eUR",
        "colab_type": "text"
      },
      "source": [
        "#Write a Pandas program to get the details of the thrid movie of the DataFrame #(movie_metadata.csv file).\n",
        "\n"
      ]
    },
    {
      "cell_type": "code",
      "metadata": {
        "id": "dFa6MBj04kkd",
        "colab_type": "code",
        "colab": {
          "base_uri": "https://localhost:8080/",
          "height": 176
        },
        "outputId": "85e82c94-2a1f-4d4f-e6bd-960cc4ad8542"
      },
      "source": [
        "import pandas as pd\n",
        "df = pd.read_csv('movies_metadata.csv')\n",
        "third_movie = df.iloc[2]\n",
        "print(\"Details of the third moviee:\")\n",
        "print(third_movie)\n"
      ],
      "execution_count": null,
      "outputs": [
        {
          "output_type": "stream",
          "text": [
            "Details of the third moviee:\n",
            "reviews          2\n",
            "language     hindi\n",
            "country        ast\n",
            "budget      9 lack\n",
            "rating           4\n",
            "year          2019\n",
            "actor         yash\n",
            "Name: 2, dtype: object\n"
          ],
          "name": "stdout"
        }
      ]
    },
    {
      "cell_type": "markdown",
      "metadata": {
        "id": "T4B9MOQE4nkh",
        "colab_type": "text"
      },
      "source": [
        "#Write a Pandas program to display the first 10 rows of the DataFrame."
      ]
    },
    {
      "cell_type": "code",
      "metadata": {
        "id": "AtX0z1mJ4rgT",
        "colab_type": "code",
        "colab": {
          "base_uri": "https://localhost:8080/",
          "height": 158
        },
        "outputId": "de3469b0-07c7-41ec-d6bc-7f75ac58236d"
      },
      "source": [
        "import pandas as pd\n",
        "df = pd.read_csv('movies_metadata.csv')\n",
        "#Display the first 10 rows\n",
        "result = df.head(10)\n",
        "print(\"First 10 rows of the DataFrame:\")\n",
        "print(result)\n",
        "\n",
        "\n"
      ],
      "execution_count": null,
      "outputs": [
        {
          "output_type": "stream",
          "text": [
            "First 10 rows of the DataFrame:\n",
            "   reviews language country  budget  rating  year   actor\n",
            "0        4      eng     end  7 lack       4  2017  salman\n",
            "1        3  kannada     ind   8lack       4  2018  vijaya\n",
            "2        2    hindi     ast  9 lack       4  2019    yash\n",
            "3        5    tamil     usa   7lack       4  2012   arjun\n",
            "4        4    telgu  russia  8 lack       4  2013  roshan\n",
            "5        3      eng     end  9 lack       4  2015  sudeep\n"
          ],
          "name": "stdout"
        }
      ]
    },
    {
      "cell_type": "markdown",
      "metadata": {
        "id": "2e75P5gn4zFf",
        "colab_type": "text"
      },
      "source": [
        "#Numpy Examples"
      ]
    },
    {
      "cell_type": "markdown",
      "metadata": {
        "id": "klyaZ5UD42WP",
        "colab_type": "text"
      },
      "source": [
        "#Write a NumPy program to generate five random numbers from the normal distribution."
      ]
    },
    {
      "cell_type": "code",
      "metadata": {
        "id": "bZNp0N7n46oa",
        "colab_type": "code",
        "colab": {
          "base_uri": "https://localhost:8080/",
          "height": 34
        },
        "outputId": "772df5f0-4936-406f-9d5b-53b4c0ae0f12"
      },
      "source": [
        "import numpy as np\n",
        "x = np.random.normal(size=5)\n",
        "print(x)\n"
      ],
      "execution_count": null,
      "outputs": [
        {
          "output_type": "stream",
          "text": [
            "[0.86555792 1.33122223 0.70312518 1.52036684 1.26941903]\n"
          ],
          "name": "stdout"
        }
      ]
    },
    {
      "cell_type": "markdown",
      "metadata": {
        "id": "sTq6hcpv4-I3",
        "colab_type": "text"
      },
      "source": [
        "#Write a NumPy program to generate six random integers between 10 and 30"
      ]
    },
    {
      "cell_type": "code",
      "metadata": {
        "id": "J8llxIdq5B6c",
        "colab_type": "code",
        "colab": {
          "base_uri": "https://localhost:8080/",
          "height": 34
        },
        "outputId": "ebffead7-09d2-477c-e9b3-063137a4a87a"
      },
      "source": [
        "import numpy as np\n",
        "x = np.random.randint(low=10, high=30, size=6)\n",
        "print(x)\n"
      ],
      "execution_count": null,
      "outputs": [
        {
          "output_type": "stream",
          "text": [
            "[16 19 29 24 10 24]\n"
          ],
          "name": "stdout"
        }
      ]
    },
    {
      "cell_type": "markdown",
      "metadata": {
        "id": "0KpuQqiA5HnA",
        "colab_type": "text"
      },
      "source": [
        "#Write a NumPy program to create a 3x3x3 array with random values."
      ]
    },
    {
      "cell_type": "code",
      "metadata": {
        "id": "wKPrww-X5Nxr",
        "colab_type": "code",
        "colab": {
          "base_uri": "https://localhost:8080/",
          "height": 204
        },
        "outputId": "c0011111-9d46-4cdc-ff9e-f4557d0bb1b6"
      },
      "source": [
        "import numpy as np\n",
        "x = np.random.random((3,3,3))\n",
        "print(x)\n"
      ],
      "execution_count": null,
      "outputs": [
        {
          "output_type": "stream",
          "text": [
            "[[[0.23666837 0.94314707 0.45953104]\n",
            "  [0.16113094 0.86120811 0.36151964]\n",
            "  [0.30073335 0.0783555  0.43575006]]\n",
            "\n",
            " [[0.33951666 0.8528705  0.46441722]\n",
            "  [0.96198606 0.30327957 0.39216778]\n",
            "  [0.20110842 0.4158306  0.45847531]]\n",
            "\n",
            " [[0.88596435 0.89511948 0.43780867]\n",
            "  [0.88104699 0.06733834 0.81596347]\n",
            "  [0.03053995 0.23441299 0.56470687]]]\n"
          ],
          "name": "stdout"
        }
      ]
    },
    {
      "cell_type": "markdown",
      "metadata": {
        "id": "2BlWQcYG5RH-",
        "colab_type": "text"
      },
      "source": [
        "#Write a NumPy program to create a 5x5 array with random values and find the minimum and maximum values.\n",
        "\n"
      ]
    },
    {
      "cell_type": "code",
      "metadata": {
        "id": "2PhM3EzY5WjB",
        "colab_type": "code",
        "colab": {
          "base_uri": "https://localhost:8080/",
          "height": 153
        },
        "outputId": "d7882015-af45-4d18-bd7a-7e0230056996"
      },
      "source": [
        "import numpy as np\n",
        "x = np.random.random((5,5))\n",
        "print(\"Original Array:\")\n",
        "print(x) \n",
        "xmin, xmax = x.min(), x.max()\n",
        "print(\"Minimum and Maximum Values:\")\n",
        "print(xmin, xmax)\n"
      ],
      "execution_count": null,
      "outputs": [
        {
          "output_type": "stream",
          "text": [
            "Original Array:\n",
            "[[0.01040826 0.82292624 0.75529968 0.18275684 0.74692738]\n",
            " [0.56029787 0.43471841 0.20754789 0.83859797 0.64734784]\n",
            " [0.79642334 0.27849258 0.33127402 0.2115947  0.12937203]\n",
            " [0.60908009 0.04250516 0.23004322 0.37398498 0.95571684]\n",
            " [0.84924083 0.26661986 0.38932824 0.42130069 0.63404799]]\n",
            "Minimum and Maximum Values:\n",
            "0.010408258985433738 0.9557168423757747\n"
          ],
          "name": "stdout"
        }
      ]
    },
    {
      "cell_type": "markdown",
      "metadata": {
        "id": "RIUrDSH95a5D",
        "colab_type": "text"
      },
      "source": [
        "#Write a NumPy program to create a random 10x4 array and extract the first five rows of the  array and store them into a variable."
      ]
    },
    {
      "cell_type": "code",
      "metadata": {
        "id": "QeEat-YS5efJ",
        "colab_type": "code",
        "colab": {
          "base_uri": "https://localhost:8080/",
          "height": 493
        },
        "outputId": "cefdf16a-055e-468f-fa17-6dba1bc03903"
      },
      "source": [
        "import numpy as np\n",
        "x = np.random.rand(10, 4)\n",
        "print(\"Original array: \")\n",
        "print(x)\n",
        "y= x[:5, :]\n",
        "print(\"First 5 rows of the above array:\")\n",
        "y= x[:5, :]\n",
        "print(y)\n",
        "z= x[:, :4]\n",
        "print(\"First 3 columns of the above array:\")\n",
        "print(z)\n"
      ],
      "execution_count": null,
      "outputs": [
        {
          "output_type": "stream",
          "text": [
            "Original array: \n",
            "[[0.2674821  0.17782406 0.62648634 0.19674785]\n",
            " [0.05670833 0.32637261 0.7111222  0.68502004]\n",
            " [0.4703666  0.81954883 0.35024655 0.28515437]\n",
            " [0.85659947 0.40674611 0.65161045 0.08730053]\n",
            " [0.33406745 0.24430645 0.06805862 0.85079995]\n",
            " [0.23919915 0.09785263 0.66532079 0.10239381]\n",
            " [0.93648054 0.28103152 0.13872284 0.81856004]\n",
            " [0.95847413 0.60553553 0.44038067 0.90114118]\n",
            " [0.78395022 0.87764034 0.85181965 0.43894156]\n",
            " [0.84802959 0.73008571 0.2903679  0.24463021]]\n",
            "First 5 rows of the above array:\n",
            "[[0.2674821  0.17782406 0.62648634 0.19674785]\n",
            " [0.05670833 0.32637261 0.7111222  0.68502004]\n",
            " [0.4703666  0.81954883 0.35024655 0.28515437]\n",
            " [0.85659947 0.40674611 0.65161045 0.08730053]\n",
            " [0.33406745 0.24430645 0.06805862 0.85079995]]\n",
            "First 3 columns of the above array:\n",
            "[[0.2674821  0.17782406 0.62648634 0.19674785]\n",
            " [0.05670833 0.32637261 0.7111222  0.68502004]\n",
            " [0.4703666  0.81954883 0.35024655 0.28515437]\n",
            " [0.85659947 0.40674611 0.65161045 0.08730053]\n",
            " [0.33406745 0.24430645 0.06805862 0.85079995]\n",
            " [0.23919915 0.09785263 0.66532079 0.10239381]\n",
            " [0.93648054 0.28103152 0.13872284 0.81856004]\n",
            " [0.95847413 0.60553553 0.44038067 0.90114118]\n",
            " [0.78395022 0.87764034 0.85181965 0.43894156]\n",
            " [0.84802959 0.73008571 0.2903679  0.24463021]]\n"
          ],
          "name": "stdout"
        }
      ]
    },
    {
      "cell_type": "markdown",
      "metadata": {
        "id": "QiWbcaNa5iuW",
        "colab_type": "text"
      },
      "source": [
        "#Write a NumPy program to shuffle numbers and find permutation  between 0 and 10 (inclusive).\n"
      ]
    },
    {
      "cell_type": "code",
      "metadata": {
        "id": "KfSb0KaD5pnX",
        "colab_type": "code",
        "colab": {
          "base_uri": "https://localhost:8080/",
          "height": 68
        },
        "outputId": "9e5537e6-b4a7-4ecf-e459-ec9a03939c0a"
      },
      "source": [
        "import numpy as np\n",
        "x = np.arange(10)\n",
        "np.random.shuffle(x)\n",
        "print(x)\n",
        "print(\"Same result using permutation():\")\n",
        "print(np.random.permutation(10))\n"
      ],
      "execution_count": null,
      "outputs": [
        {
          "output_type": "stream",
          "text": [
            "[0 4 6 2 1 9 3 5 8 7]\n",
            "Same result using permutation():\n",
            "[9 7 8 3 1 5 6 4 2 0]\n"
          ],
          "name": "stdout"
        }
      ]
    },
    {
      "cell_type": "markdown",
      "metadata": {
        "id": "uxqORMF85t1r",
        "colab_type": "text"
      },
      "source": [
        "#Write a NumPy program to create a random integer nos of size 10 and sort it.\n",
        "\n"
      ]
    },
    {
      "cell_type": "code",
      "metadata": {
        "id": "RkCK_53w5wTm",
        "colab_type": "code",
        "colab": {
          "base_uri": "https://localhost:8080/",
          "height": 34
        },
        "outputId": "9d7c5f02-0f3e-4aab-d7e2-4312bba40ca9"
      },
      "source": [
        "import numpy as np\n",
        "x = np.arange(10)\n",
        "np.random.randint(x,100)\n",
        "print(x)\n",
        "\n"
      ],
      "execution_count": null,
      "outputs": [
        {
          "output_type": "stream",
          "text": [
            "[0 1 2 3 4 5 6 7 8 9]\n"
          ],
          "name": "stdout"
        }
      ]
    },
    {
      "cell_type": "markdown",
      "metadata": {
        "id": "OWCJqNrR6RG_",
        "colab_type": "text"
      },
      "source": [
        "#Write a NumPy program to create a random integer nos of size 10 and sort it."
      ]
    },
    {
      "cell_type": "code",
      "metadata": {
        "id": "1w2Xl6re6Uqs",
        "colab_type": "code",
        "colab": {
          "base_uri": "https://localhost:8080/",
          "height": 51
        },
        "outputId": "c375453c-b8db-42d7-a094-dc55fed23a76"
      },
      "source": [
        "import numpy as np\n",
        "x=np.arange(10)\n",
        "np.random.shuffle(x)\n",
        "print(x)\n",
        "x.sort()\n",
        "print(x)\n",
        "\n"
      ],
      "execution_count": null,
      "outputs": [
        {
          "output_type": "stream",
          "text": [
            "[1 6 0 2 7 4 5 8 9 3]\n",
            "[0 1 2 3 4 5 6 7 8 9]\n"
          ],
          "name": "stdout"
        }
      ]
    }
  ]
}